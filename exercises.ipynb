{
 "cells": [
  {
   "cell_type": "code",
   "execution_count": 1,
   "metadata": {},
   "outputs": [],
   "source": [
    "import torch\n",
    "import torch.nn as nn\n",
    "import torch.nn.functional as F\n",
    "import torch.optim as optim"
   ]
  },
  {
   "cell_type": "markdown",
   "metadata": {},
   "source": [
    "##### Attention:\n",
    "For this lab, there are no local answers for the questions in learntools. However, there are some assertions for the first 4 questions. You should pass all of the assertions before submitting to the autograding.\n",
    "\n",
    "Some of the questions use mathematical symbols and equations to depict the scenario. These are just some basic \"formal\" definitions and you should understand them. In case you haven't understood them, read again and give yourself sometime to ponder. If there is any error or details in the questions that heavily confuse you, please post your concerns on Google Classroom. "
   ]
  },
  {
   "cell_type": "markdown",
   "metadata": {},
   "source": [
    "## Questions"
   ]
  },
  {
   "cell_type": "markdown",
   "metadata": {},
   "source": [
    "### Q1: Given a function $f(x) = x^2 + 3x + 8$, return the gradient of $x$ when $x=2.0$ using pytorch autograd. The gradient tensor should have type torch.float32 and dim=0."
   ]
  },
  {
   "cell_type": "code",
   "execution_count": 2,
   "metadata": {},
   "outputs": [],
   "source": [
    "def exercise_1() -> torch.Tensor:\n",
    "    x = torch.tensor(2.0,dtype=torch.float32,requires_grad=True)\n",
    "    f = x**2 +3*x +8\n",
    "    f.backward()\n",
    "    return x.grad\n",
    "\n",
    "ex1_sol = exercise_1()\n",
    "assert torch.equal(ex1_sol, torch.tensor(7.0))"
   ]
  },
  {
   "cell_type": "markdown",
   "metadata": {},
   "source": [
    "### Q2: A typical layer in a Neural Network would look like $f(x) = w_1 x_1 + w_2 x_2 + w_3 x_3 + ... + b$, where $w_j$ is the j-th weight of the function and $b$ is its bias. This function outputs a result for a multi-dimension input, where $x_j$ is the j-th feature of the input. Implement this function, return the gradients of each weight for a given input `x` and the output using `tuple` with the formar `(output, weight_grads_tensor)`. The weights should be randomized using `torch.randn()` and the bias must be set to $5.0$. The input used by the autograder will be the same size as the one given below."
   ]
  },
  {
   "cell_type": "code",
   "execution_count": 3,
   "metadata": {},
   "outputs": [],
   "source": [
    "x = torch.tensor([1, 2, 3, 4, 5])\n",
    "\n",
    "def exercise_2(x) -> tuple:\n",
    "    # all the output and gradients are tensors\n",
    "\n",
    "    torch.manual_seed(0) # must set seed=0 before random your weight\n",
    "    x = x.to(torch.float32)\n",
    "    weights = torch.randn(x.shape[0],dtype=torch.float32, requires_grad=True)\n",
    "    bias = torch.tensor(5.0,dtype=torch.float32, requires_grad=True)\n",
    "    output = torch.dot(weights,x) + bias\n",
    "    output.backward()\n",
    "    weight_grads_tensor = weights.grad\n",
    "    return(output,weight_grads_tensor)\n",
    "    # you must return in this format\n",
    "    # return (output, weight_grads_tensor)\n",
    "\n",
    "ex2_sol = exercise_2(x)\n",
    "\n",
    "assert (ex2_sol[0] - torch.tensor(-3.7311) < 1e-4).item()\n",
    "assert torch.equal(ex2_sol[1], torch.tensor([1, 2, 3, 4, 5], dtype=torch.float32))"
   ]
  },
  {
   "cell_type": "markdown",
   "metadata": {},
   "source": [
    "### Q3: Suppose each feature $x_j$ needs a separate function $f_j(x_j)$, where $f_j(x_j) = w_j x_j + b_j$. In other words, each feature requires a function, which has a separate set of 1 weight and 1 bias. Therefore, the output $y$ of your function $G(x)=[f_1(x_1), f_2(x_2), ..., f_n(x_n)]$ should be $y = [(w_1 x_1 + b_1), (w_2 x_2 + b_2), ..., (w_n x_n + b_n)]$ (**note:** these are matrices written lazily with markdown). Implement the function $G(x)$, return the output and the gradient sets for each function for a given `x`. The weights should be randomized using `torch.randn()`, and the bias is the same as $j$ of $f_j()$ (for example: $b_1 = 1.0$, $b_2 = 2.0$). The input used by the autograder will be the same size as the one given below."
   ]
  },
  {
   "cell_type": "code",
   "execution_count": 4,
   "metadata": {},
   "outputs": [],
   "source": [
    "x = torch.tensor([1, 2, 3, 4, 5])\n",
    "\n",
    "def exercise_3(x) -> tuple:\n",
    "     # all the output and gradients are tensors\n",
    "    \n",
    "    torch.manual_seed(0) # must set seed=0 before random your weight\n",
    "\n",
    "    # Initialize weights with requires_grad=True\n",
    "    weights = torch.randn(x.size(0), dtype=torch.float32, requires_grad=True)\n",
    "    \n",
    "    # Biases: b_j = j\n",
    "    biases = torch.tensor([float(i+1) for i in range(x.size(0))], dtype=torch.float32)\n",
    "    \n",
    "    # Compute outputs\n",
    "    y = weights * x + biases\n",
    "    \n",
    "    # Dummy scalar loss to backpropagate from (sum is common trick)\n",
    "    loss = y.sum()\n",
    "    loss.backward()\n",
    "    \n",
    "    # Get gradients of weights\n",
    "    weight_grads = weights.grad\n",
    "    \n",
    "    return (y, weight_grads)\n",
    "    # you must return in this format\n",
    "    # return (output, weight_grads_tensor)\n",
    "\n",
    "ex3_sol = exercise_3(x)\n",
    "assert torch.all((ex3_sol[0] - torch.tensor([ 2.5410,  1.4131, -3.5364,  6.2737, -0.4226 ], dtype=torch.float32)) < 5e-4).item()\n",
    "assert torch.equal(ex3_sol[1], torch.tensor([1, 2, 3, 4, 5], dtype=torch.float32))\n",
    "# q3.check()"
   ]
  },
  {
   "cell_type": "markdown",
   "metadata": {},
   "source": [
    "### Q4: Using the function $f(x)$ similar to the one in question 2, implement the function with random weights and bias (must use `torch.manual_seed(0)` before each initialization). Calculate the Mean Squared Error between the `target` and your function prediction on the `data` as a loss metric, then return a tuple containing the gradients of your function weights and bias based on the calculated loss."
   ]
  },
  {
   "cell_type": "code",
   "execution_count": 5,
   "metadata": {},
   "outputs": [],
   "source": [
    "data = torch.tensor([2.0, 3.0, 4.0, 5.0, 6.0, 7.0, 8.0, 9.0, 10.0, 11.0])\n",
    "target = torch.tensor([2.0])\n",
    "\n",
    "def exercise_4(data, target) -> tuple:\n",
    "    # both gradients are tensors\n",
    "    torch.manual_seed(0)  # Set seed before initializing weights\n",
    "    data = data.to(torch.float32)\n",
    "    \n",
    "    weights = torch.randn(data.shape[0], dtype=torch.float32, requires_grad=True)\n",
    "    bias = torch.randn(1, dtype=torch.float32, requires_grad=True)\n",
    "    \n",
    "    output = torch.dot(weights, data) + bias  # scalar output\n",
    "    loss = torch.mean((output - target) ** 2)  # MSE loss\n",
    "    \n",
    "    loss.backward()  # compute gradients\n",
    "    \n",
    "    return (weights.grad, bias.grad)\n",
    "    # you must return in this format\n",
    "    # return (weight_grads_tensor, bias_grads_tensor)\n",
    "\n",
    "ex4_sol = exercise_4(data, target)\n",
    "assert ex4_sol[0].dim() == 1 and ex4_sol[1].dim() == 1, print(\"All tensors must have dim == 1\")\n",
    "assert torch.all((ex4_sol[0] - torch.tensor([-85.1518, -127.7277, -170.3036, -212.8795, -255.4553, -298.0312, -340.6071, -383.1830, -425.7589, -468.3348], dtype=torch.float32)) < 5e-4)\n",
    "assert torch.all((ex4_sol[1] - torch.tensor([-42.5759], dtype=torch.float32)) < 5e-4)"
   ]
  },
  {
   "cell_type": "markdown",
   "metadata": {},
   "source": [
    "### Q5: This question worth 40% the points of this lab. Your solution for this question will be graded manually by the TAs, hence you will be informed later for the total points for this lab after the deadline has been met."
   ]
  },
  {
   "cell_type": "markdown",
   "metadata": {},
   "source": [
    "**Note**: This question will not focus on getting the right results as your implementation is more important. Therefore there will be no local answer or autograding."
   ]
  },
  {
   "cell_type": "markdown",
   "metadata": {},
   "source": [
    "#### Create a small neural network consisting 2 Linear layers, each followed by a Sigmoid activation function. The template code has been provided below including the return format (`x` should be replaced by the final `tensor` after the forward pass). Your code must use layers and functions provided by `pytorch`. Initialize all necessary components that can be used during the training phase including a Binary Cross Entropy Loss function and a Gradient Descent optimizer. Train your model for 2 epochs with a proper train loop, then make a prediction on a given `val_x` and return your prediction."
   ]
  },
  {
   "cell_type": "markdown",
   "metadata": {},
   "source": [
    "**Note**: the first Linear Layer can have any `in_features` and `out_features`, but the last Linear Layer must have `out_features=2`. Your model will consume the whole input for each epoch, so you don't need to separate the input into batches."
   ]
  },
  {
   "cell_type": "markdown",
   "metadata": {},
   "source": [
    "*Context*: This part is not necessary for your implementation, but it could help you to understand the work that your network is simulating. The `train_x` consists grades for 5 subjects of 20 students, with the minimum grade is 1 and the maximum is 10. The problem is a classification task, when your model predicts if a student is good or bad based on their 5 grades. That is the reason why the final layer must have 2 output features, which correspond to the 2 classes \"good\" and \"bad\"."
   ]
  },
  {
   "cell_type": "code",
   "execution_count": 6,
   "metadata": {},
   "outputs": [],
   "source": [
    "train_x = torch.randint(1, 10, (20, 5), dtype=torch.float32) # input\n",
    "train_y = (train_x.sum(1) > 30).float() # target\n",
    "val_x = torch.randint(3, 10, (10, 5), dtype=torch.float32)\n",
    "\n",
    "def exercise_5(train_x, train_y, val_x) -> torch.Tensor:\n",
    "\n",
    "    class MyNetwork(nn.Module): #define NN\n",
    "        def __init__(self):\n",
    "            super().__init__()\n",
    "            # https://docs.pytorch.org/docs/stable/generated/torch.nn.Linear.html#torch.nn.Linear\n",
    "            self.layer1 = nn.Linear(5, 4)  # 5 inputs -> 4 outputs (1st Linear Layer)\n",
    "            self.layer2 = nn.Linear(4, 2)  # 4 inputs -> 2 class outputs (2nd Linear Layer)\n",
    "            self.activation = nn.Sigmoid() # https://docs.pytorch.org/docs/stable/generated/torch.nn.Sigmoid.html#torch.nn.Sigmoid\n",
    "\n",
    "        def forward(self, x):\n",
    "            x = self.activation(self.layer1(x)) #Apply 1st & 2nd layer\n",
    "            x = self.activation(self.layer2(x))\n",
    "            return x\n",
    "\n",
    "    model = MyNetwork()\n",
    "\n",
    "    loss_fn = nn.BCELoss() # https://docs.pytorch.org/docs/stable/generated/torch.nn.BCELoss.html#torch.nn.BCELoss\n",
    "    # Binary Cross Entropy Loss for multi-label (2-class) classification\n",
    "    # Inputs and targets must both be in [0, 1]\n",
    "\n",
    "    optimizer = optim.SGD(model.parameters(), lr=0.01) # https://docs.pytorch.org/docs/stable/generated/torch.optim.SGD.html#torch.optim.SGD\n",
    "    # Stochastic Gradient Descent optimizer\n",
    "\n",
    "    train_y_one_hot = torch.stack([1 - train_y, train_y], dim=1) # https://docs.pytorch.org/docs/stable/generated/torch.stack.html#torch.stack\n",
    "    # Convert 1D target [batch_size] -> 2D one-hot [batch_size, 2]\n",
    "    # Class 0: \"not good\" (sum <= 30), Class 1: \"good\" (sum > 30)\n",
    "\n",
    "    for epoch in range(2):\n",
    "        optimizer.zero_grad()\n",
    "        output = model(train_x)\n",
    "        loss = loss_fn(output, train_y_one_hot)\n",
    "        loss.backward()\n",
    "        optimizer.step()\n",
    "\n",
    "        # Clear Prev gradients\n",
    "        # Fwd Pass\n",
    "        # Compute Loss\n",
    "        # Backpropagate\n",
    "        # Update weights\n",
    "\n",
    "    with torch.no_grad(): # https://docs.pytorch.org/docs/stable/generated/torch.no_grad.html#torch.no_grad\n",
    "        val_pred = model(val_x) # get prediction for validation input\n",
    "\n",
    "    return val_pred\n",
    "\n",
    "ex5_sol = exercise_5(train_x=train_x, train_y=train_y, val_x=val_x)"
   ]
  }
 ],
 "metadata": {
  "kernelspec": {
   "display_name": "Python 3",
   "language": "python",
   "name": "python3"
  },
  "language_info": {
   "codemirror_mode": {
    "name": "ipython",
    "version": 3
   },
   "file_extension": ".py",
   "mimetype": "text/x-python",
   "name": "python",
   "nbconvert_exporter": "python",
   "pygments_lexer": "ipython3",
   "version": "3.12.1"
  }
 },
 "nbformat": 4,
 "nbformat_minor": 2
}
